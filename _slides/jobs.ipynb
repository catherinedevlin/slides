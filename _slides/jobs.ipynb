{
 "cells": [
  {
   "cell_type": "code",
   "execution_count": 2,
   "metadata": {
    "collapsed": true
   },
   "outputs": [],
   "source": [
    "import json\n",
    "with open('data/jobs.json') as infile:\n",
    "    data = json.load(infile)"
   ]
  },
  {
   "cell_type": "code",
   "execution_count": 3,
   "metadata": {
    "collapsed": false
   },
   "outputs": [
    {
     "data": {
      "text/plain": [
       "[{'end_date': '2015-10-31',\n",
       "  'id': 'usajobs:399260900',\n",
       "  'locations': ['Wright-Patterson AFB, OH', 'Tinker AFB, OK'],\n",
       "  'maximum': 91255,\n",
       "  'minimum': 48403,\n",
       "  'organization_name': 'U.S. Air Force - Agency Wide',\n",
       "  'position_title': 'SAFETY ENGINEER',\n",
       "  'rate_interval_code': 'PA',\n",
       "  'start_date': '2015-04-01',\n",
       "  'url': 'https://www.usajobs.gov/GetJob/ViewDetails/399260900'},\n",
       " {'end_date': '2015-10-31',\n",
       "  'id': 'usajobs:399300200',\n",
       "  'locations': ['Eglin AFB, FL',\n",
       "   'MacDill AFB, FL',\n",
       "   'Robins AFB, GA',\n",
       "   'Wright-Patterson AFB, OH',\n",
       "   'Tinker AFB, OK',\n",
       "   'Hill AFB, UT'],\n",
       "  'maximum': 128223,\n",
       "  'minimum': 39570,\n",
       "  'organization_name': 'U.S. Air Force - Agency Wide',\n",
       "  'position_title': 'Industrial Engineer',\n",
       "  'rate_interval_code': 'PA',\n",
       "  'start_date': '2015-04-01',\n",
       "  'url': 'https://www.usajobs.gov/GetJob/ViewDetails/399300200'},\n",
       " {'end_date': '2015-10-31',\n",
       "  'id': 'usajobs:399375900',\n",
       "  'locations': ['Palmdale, CA',\n",
       "   'Eglin AFB, FL',\n",
       "   'Hanscom AFB, MA',\n",
       "   'Wright-Patterson AFB, OH',\n",
       "   'Tinker AFB, OK',\n",
       "   'Fairchild AFB, WA'],\n",
       "  'maximum': 128223,\n",
       "  'minimum': 58562,\n",
       "  'organization_name': 'U.S. Air Force - Agency Wide',\n",
       "  'position_title': 'Civil Engineer',\n",
       "  'rate_interval_code': 'PA',\n",
       "  'start_date': '2015-04-01',\n",
       "  'url': 'https://www.usajobs.gov/GetJob/ViewDetails/399375900'},\n",
       " {'end_date': '2015-10-31',\n",
       "  'id': 'usajobs:399376000',\n",
       "  'locations': ['Davis Monthan AFB, AZ',\n",
       "   'Edwards AFB, CA',\n",
       "   'Vandenberg AFB, CA',\n",
       "   'Peterson AFB, CO',\n",
       "   'Eglin AFB, FL',\n",
       "   'Hurlburt Field, FL',\n",
       "   'Robins AFB, GA',\n",
       "   'Hanscom AFB, MA',\n",
       "   'Aberdeen Proving Ground, MD',\n",
       "   'White Oak, MD',\n",
       "   'Lakehurst, NJ',\n",
       "   'Holloman AFB, NM',\n",
       "   'Kirtland AFB, NM',\n",
       "   'Heath, OH',\n",
       "   'Wright-Patterson AFB, OH',\n",
       "   'Tinker AFB, OK',\n",
       "   'Arnold AFB, TN',\n",
       "   'Fort Worth, TX',\n",
       "   'Hill AFB, UT'],\n",
       "  'maximum': 128223,\n",
       "  'minimum': 31944,\n",
       "  'organization_name': 'U.S. Air Force - Agency Wide',\n",
       "  'position_title': 'MECHANICAL ENGINEER',\n",
       "  'rate_interval_code': 'PA',\n",
       "  'start_date': '2015-04-01',\n",
       "  'url': 'https://www.usajobs.gov/GetJob/ViewDetails/399376000'},\n",
       " {'end_date': '2015-10-31',\n",
       "  'id': 'usajobs:399376200',\n",
       "  'locations': ['Air Force Academy, CO',\n",
       "   'Eglin AFB, FL',\n",
       "   'Robins AFB, GA',\n",
       "   'Hanscom AFB, MA',\n",
       "   'Wright-Patterson AFB, OH',\n",
       "   'Tinker AFB, OK',\n",
       "   'Goodfellow AFB, TX',\n",
       "   'Hill AFB, UT'],\n",
       "  'maximum': 108507,\n",
       "  'minimum': 39570,\n",
       "  'organization_name': 'U.S. Air Force - Agency Wide',\n",
       "  'position_title': 'ELECTRICAL ENGINEER',\n",
       "  'rate_interval_code': 'PA',\n",
       "  'start_date': '2015-04-01',\n",
       "  'url': 'https://www.usajobs.gov/GetJob/ViewDetails/399376200'},\n",
       " {'end_date': '2015-10-31',\n",
       "  'id': 'usajobs:399376500',\n",
       "  'locations': ['Gunter AFB, AL',\n",
       "   'El Segundo, CA',\n",
       "   'Eglin AFB, FL',\n",
       "   'Patrick AFB, FL',\n",
       "   'Robins AFB, GA',\n",
       "   'Scott AFB, IL',\n",
       "   'Holloman AFB, NM',\n",
       "   'Kirtland AFB, NM',\n",
       "   'Heath, OH',\n",
       "   'Wright-Patterson AFB, OH',\n",
       "   'Kelly AFB, TX',\n",
       "   'Lackland AFB, TX',\n",
       "   'San Antonio, TX',\n",
       "   'Hill AFB, UT'],\n",
       "  'maximum': 150830,\n",
       "  'minimum': 39570,\n",
       "  'organization_name': 'U.S. Air Force - Agency Wide',\n",
       "  'position_title': 'COMPUTER ENGINEER',\n",
       "  'rate_interval_code': 'PA',\n",
       "  'start_date': '2015-04-01',\n",
       "  'url': 'https://www.usajobs.gov/GetJob/ViewDetails/399376500'},\n",
       " {'end_date': '2015-10-28',\n",
       "  'id': 'usajobs:418876300',\n",
       "  'locations': ['Wright-Patterson AFB, OH'],\n",
       "  'maximum': 95048,\n",
       "  'minimum': 73115,\n",
       "  'organization_name': 'U.S. Air Force - Agency Wide',\n",
       "  'position_title': 'ELECTRONICS ENGINEER',\n",
       "  'rate_interval_code': 'PA',\n",
       "  'start_date': '2015-10-19',\n",
       "  'url': 'https://www.usajobs.gov/GetJob/ViewDetails/418876300'},\n",
       " {'end_date': '2015-10-28',\n",
       "  'id': 'usajobs:418699500',\n",
       "  'locations': ['Cleveland, OH'],\n",
       "  'maximum': 79145,\n",
       "  'minimum': 60880,\n",
       "  'organization_name': 'John Glenn Research Center at Lewis Field',\n",
       "  'position_title': 'Electrical Engineer',\n",
       "  'rate_interval_code': 'PA',\n",
       "  'start_date': '2015-10-15',\n",
       "  'url': 'https://www.usajobs.gov/GetJob/ViewDetails/418699500'},\n",
       " {'end_date': '2015-11-05',\n",
       "  'id': 'usajobs:419668100',\n",
       "  'locations': ['Wright-Patterson AFB, OH'],\n",
       "  'maximum': 95048,\n",
       "  'minimum': 73115,\n",
       "  'organization_name': 'U.S. Air Force - Agency Wide',\n",
       "  'position_title': 'ELECTRONICS ENGINEER',\n",
       "  'rate_interval_code': 'PA',\n",
       "  'start_date': '2015-10-27',\n",
       "  'url': 'https://www.usajobs.gov/GetJob/ViewDetails/419668100'},\n",
       " {'end_date': '2015-11-02',\n",
       "  'id': 'usajobs:419685000',\n",
       "  'locations': ['Wright-Patterson AFB, OH'],\n",
       "  'maximum': 112319,\n",
       "  'minimum': 86399,\n",
       "  'organization_name': 'U.S. Air Force - Agency Wide',\n",
       "  'position_title': 'GENERAL ENGINEER',\n",
       "  'rate_interval_code': 'PA',\n",
       "  'start_date': '2015-10-27',\n",
       "  'url': 'https://www.usajobs.gov/GetJob/ViewDetails/419685000'}]"
      ]
     },
     "execution_count": 3,
     "metadata": {},
     "output_type": "execute_result"
    }
   ],
   "source": [
    "data"
   ]
  },
  {
   "cell_type": "code",
   "execution_count": 10,
   "metadata": {
    "collapsed": false
   },
   "outputs": [
    {
     "data": {
      "text/plain": [
       "{'end_date': '2015-10-31',\n",
       " 'id': 'usajobs:399260900',\n",
       " 'locations': ['Wright-Patterson AFB, OH', 'Tinker AFB, OK'],\n",
       " 'maximum': 91255,\n",
       " 'minimum': 48403,\n",
       " 'organization_name': 'U.S. Air Force - Agency Wide',\n",
       " 'position_title': 'SAFETY ENGINEER',\n",
       " 'rate_interval_code': 'PA',\n",
       " 'start_date': '2015-04-01',\n",
       " 'url': 'https://www.usajobs.gov/GetJob/ViewDetails/399260900'}"
      ]
     },
     "execution_count": 10,
     "metadata": {},
     "output_type": "execute_result"
    }
   ],
   "source": [
    "data[0]"
   ]
  },
  {
   "cell_type": "code",
   "execution_count": 11,
   "metadata": {
    "collapsed": false
   },
   "outputs": [
    {
     "data": {
      "text/plain": [
       "'SAFETY ENGINEER'"
      ]
     },
     "execution_count": 11,
     "metadata": {},
     "output_type": "execute_result"
    }
   ],
   "source": [
    "data[0]['position_title']"
   ]
  },
  {
   "cell_type": "code",
   "execution_count": 9,
   "metadata": {
    "collapsed": false
   },
   "outputs": [
    {
     "name": "stdout",
     "output_type": "stream",
     "text": [
      "Don't be a SAFETY ENGINEER in Wright-Patterson AFB, OH or Tinker AFB, OK, the money stinks.\n",
      "\n",
      "Don't be a Industrial Engineer in Eglin AFB, FL or MacDill AFB, FL or Robins AFB, GA or Wright-Patterson AFB, OH or Tinker AFB, OK or Hill AFB, UT, the money stinks.\n",
      "\n",
      "Don't be a Civil Engineer in Palmdale, CA or Eglin AFB, FL or Hanscom AFB, MA or Wright-Patterson AFB, OH or Tinker AFB, OK or Fairchild AFB, WA, the money stinks.\n",
      "\n",
      "Don't be a MECHANICAL ENGINEER in Davis Monthan AFB, AZ or Edwards AFB, CA or Vandenberg AFB, CA or Peterson AFB, CO or Eglin AFB, FL or Hurlburt Field, FL or Robins AFB, GA or Hanscom AFB, MA or Aberdeen Proving Ground, MD or White Oak, MD or Lakehurst, NJ or Holloman AFB, NM or Kirtland AFB, NM or Heath, OH or Wright-Patterson AFB, OH or Tinker AFB, OK or Arnold AFB, TN or Fort Worth, TX or Hill AFB, UT, the money stinks.\n",
      "\n",
      "Don't be a ELECTRICAL ENGINEER in Air Force Academy, CO or Eglin AFB, FL or Robins AFB, GA or Hanscom AFB, MA or Wright-Patterson AFB, OH or Tinker AFB, OK or Goodfellow AFB, TX or Hill AFB, UT, the money stinks.\n",
      "\n",
      "Don't be a COMPUTER ENGINEER in Gunter AFB, AL or El Segundo, CA or Eglin AFB, FL or Patrick AFB, FL or Robins AFB, GA or Scott AFB, IL or Holloman AFB, NM or Kirtland AFB, NM or Heath, OH or Wright-Patterson AFB, OH or Kelly AFB, TX or Lackland AFB, TX or San Antonio, TX or Hill AFB, UT, the money stinks.\n",
      "\n",
      "You could be a ELECTRONICS ENGINEER in Wright-Patterson AFB, OH\n",
      "\n",
      "You could be a Electrical Engineer in Cleveland, OH\n",
      "\n",
      "You could be a ELECTRONICS ENGINEER in Wright-Patterson AFB, OH\n",
      "\n",
      "You could be a GENERAL ENGINEER in Wright-Patterson AFB, OH\n",
      "\n"
     ]
    }
   ],
   "source": [
    "for job in data:\n",
    "    parameters = {'title': job['position_title'],\n",
    "                 'places': ' or '.join(job['locations'])}\n",
    "    if job['minimum'] > 60000:\n",
    "        print('You could be a {title} in {places}\\n'.format(**parameters))\n",
    "    else:\n",
    "        print(\"Don't be a {title} in {places}, the money stinks.\\n\".format(**parameters))\n",
    "\n",
    "        \n",
    "    "
   ]
  },
  {
   "cell_type": "code",
   "execution_count": null,
   "metadata": {
    "collapsed": true
   },
   "outputs": [],
   "source": []
  }
 ],
 "metadata": {
  "kernelspec": {
   "display_name": "Python 3",
   "language": "python",
   "name": "python3"
  },
  "language_info": {
   "codemirror_mode": {
    "name": "ipython",
    "version": 3
   },
   "file_extension": ".py",
   "mimetype": "text/x-python",
   "name": "python",
   "nbconvert_exporter": "python",
   "pygments_lexer": "ipython3",
   "version": "3.4.1"
  }
 },
 "nbformat": 4,
 "nbformat_minor": 0
}
