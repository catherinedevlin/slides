{
 "cells": [
  {
   "cell_type": "code",
   "execution_count": 43,
   "metadata": {
    "collapsed": true
   },
   "outputs": [],
   "source": [
    "import itertools\n",
    "import bs4\n",
    "import requests"
   ]
  },
  {
   "cell_type": "code",
   "execution_count": 8,
   "metadata": {
    "collapsed": false
   },
   "outputs": [],
   "source": [
    "url = 'http://www.safercar.gov/nhtsa-safercar-ncap/tireRatings/Firestone___?brand=Firestone___&traction=any&temperature=any&wear=any'\n",
    "raw_html = requests.get(url).text\n",
    "soup = bs4.BeautifulSoup(raw_html)"
   ]
  },
  {
   "cell_type": "code",
   "execution_count": 26,
   "metadata": {
    "collapsed": false
   },
   "outputs": [],
   "source": [
    "table = soup.find_all('table')[1]"
   ]
  },
  {
   "cell_type": "code",
   "execution_count": 55,
   "metadata": {
    "collapsed": true
   },
   "outputs": [],
   "source": [
    "def row_values(tr):\n",
    "    return [td.string.strip() for td in tr.find_all('td')]"
   ]
  },
  {
   "cell_type": "code",
   "execution_count": 56,
   "metadata": {
    "collapsed": false
   },
   "outputs": [],
   "source": [
    "def rows(table):\n",
    "    all_rows = table.find_all('tr')\n",
    "    keys = row_values(all_rows[1])\n",
    "    for row in all_rows[2:]:\n",
    "        yield dict(zip(keys, row_values(row)))"
   ]
  },
  {
   "cell_type": "code",
   "execution_count": 59,
   "metadata": {
    "collapsed": false
   },
   "outputs": [],
   "source": [
    "data = list(rows(table))"
   ]
  },
  {
   "cell_type": "code",
   "execution_count": 70,
   "metadata": {
    "collapsed": false
   },
   "outputs": [
    {
     "data": {
      "text/plain": [
       "[{'Construction': 'Radial',\n",
       "  'Size': 'P275/60R17 H',\n",
       "  'Temp Rating': 'A',\n",
       "  'Tire Line': 'FIREHAWK GTA',\n",
       "  'Traction Rating': 'A',\n",
       "  'Wear Rating': '240'},\n",
       " {'Construction': 'Radial',\n",
       "  'Size': 'P215/45R17',\n",
       "  'Temp Rating': 'A',\n",
       "  'Tire Line': 'FR740',\n",
       "  'Traction Rating': 'A',\n",
       "  'Wear Rating': '260'},\n",
       " {'Construction': 'Radial',\n",
       "  'Size': '185/55R16',\n",
       "  'Temp Rating': 'A',\n",
       "  'Tire Line': 'FR740',\n",
       "  'Traction Rating': 'A',\n",
       "  'Wear Rating': '300'}]"
      ]
     },
     "execution_count": 70,
     "metadata": {},
     "output_type": "execute_result"
    }
   ],
   "source": [
    "data[0:3]"
   ]
  },
  {
   "cell_type": "code",
   "execution_count": 62,
   "metadata": {
    "collapsed": false
   },
   "outputs": [],
   "source": [
    "ratings = set(d['Traction Rating'] for d in data)"
   ]
  },
  {
   "cell_type": "code",
   "execution_count": 64,
   "metadata": {
    "collapsed": false
   },
   "outputs": [
    {
     "data": {
      "text/plain": [
       "{'A', 'AA', 'B'}"
      ]
     },
     "execution_count": 64,
     "metadata": {},
     "output_type": "execute_result"
    }
   ],
   "source": [
    "ratings"
   ]
  },
  {
   "cell_type": "code",
   "execution_count": 69,
   "metadata": {
    "collapsed": false
   },
   "outputs": [
    {
     "data": {
      "text/plain": [
       "{'A': 86, 'AA': 14, 'B': 8}"
      ]
     },
     "execution_count": 69,
     "metadata": {},
     "output_type": "execute_result"
    }
   ],
   "source": [
    "{r: len([d for d in data if d['Traction Rating'] == r]) for r in ratings}"
   ]
  },
  {
   "cell_type": "code",
   "execution_count": null,
   "metadata": {
    "collapsed": true
   },
   "outputs": [],
   "source": []
  }
 ],
 "metadata": {
  "kernelspec": {
   "display_name": "Python 3",
   "language": "python",
   "name": "python3"
  },
  "language_info": {
   "codemirror_mode": {
    "name": "ipython",
    "version": 3
   },
   "file_extension": ".py",
   "mimetype": "text/x-python",
   "name": "python",
   "nbconvert_exporter": "python",
   "pygments_lexer": "ipython3",
   "version": "3.4.1"
  }
 },
 "nbformat": 4,
 "nbformat_minor": 0
}
